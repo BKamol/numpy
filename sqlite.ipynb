{
 "cells": [
  {
   "cell_type": "code",
   "execution_count": 1,
   "metadata": {},
   "outputs": [
    {
     "data": {
      "text/plain": [
       "<sqlite3.Cursor at 0x21c89890d40>"
      ]
     },
     "execution_count": 1,
     "metadata": {},
     "output_type": "execute_result"
    }
   ],
   "source": [
    "import sqlite3\n",
    "\n",
    "con = sqlite3.connect(\"firstDB.db\", check_same_thread=False)\n",
    "cursor = con.cursor()\n",
    "\n",
    "cursor.execute('''CREATE TABLE IF NOT EXISTS workers (\n",
    "                    id INTEGER PRIMARY KEY AUTOINCREMENT,\n",
    "                    name TEXT,\n",
    "                    age INTEGER,\n",
    "                    salary integer\n",
    "                )''')\n",
    "cursor.execute(\"INSERT INTO workers (name, age, salary) VALUES ('Ладюша', 18, 400)\")"
   ]
  },
  {
   "cell_type": "code",
   "execution_count": 4,
   "metadata": {},
   "outputs": [
    {
     "data": {
      "text/plain": [
       "<sqlite3.Cursor at 0x21c89890d40>"
      ]
     },
     "execution_count": 4,
     "metadata": {},
     "output_type": "execute_result"
    }
   ],
   "source": [
    "# данные для добавления\n",
    "\n",
    "names = ['Диляра', 'Лейла', 'Аделина', 'Элина', 'Аня', 'Эльза', 'Амалия', 'Соня', 'Карина', 'Луиза', 'Настя', 'Иделия']\n",
    "ages = [18, 17, 14, 16, 19, 15, 17, 18, 16, 16, 18, 14, 19]\n",
    "salaries = [400, 500, 500, 1000, 500, 1000, 2000, 1700, 2540, 1890, 2570, 1698, 2578]\n",
    "workers_list = [x for x in zip(names, ages, salaries)]\n",
    "cursor.executemany(\"INSERT INTO workers (name, age, salary) VALUES (?, ?, ?)\", workers_list)"
   ]
  },
  {
   "cell_type": "code",
   "execution_count": 6,
   "metadata": {},
   "outputs": [
    {
     "name": "stdout",
     "output_type": "stream",
     "text": [
      "[(1, 'Ладюша', 18, 400), (2, 'Диляра', 18, 400), (3, 'Лейла', 17, 500), (4, 'Аделина', 14, 500), (5, 'Элина', 16, 1000), (6, 'Аня', 19, 500), (7, 'Эльза', 15, 1000), (8, 'Амалия', 17, 2000), (9, 'Соня', 18, 1700), (10, 'Карина', 16, 2540), (11, 'Луиза', 16, 1890), (12, 'Настя', 18, 2570), (13, 'Иделия', 14, 1698), (14, 'Диляра', 18, 400), (15, 'Лейла', 17, 500), (16, 'Аделина', 14, 500), (17, 'Элина', 16, 1000), (18, 'Аня', 19, 500), (19, 'Эльза', 15, 1000), (20, 'Амалия', 17, 2000), (21, 'Соня', 18, 1700), (22, 'Карина', 16, 2540), (23, 'Луиза', 16, 1890), (24, 'Настя', 18, 2570), (25, 'Иделия', 14, 1698)]\n"
     ]
    }
   ],
   "source": [
    "cursor.execute(\"\"\"\n",
    "    SELECT * FROM workers\n",
    "\"\"\")\n",
    "results = cursor.fetchall()\n",
    "print(results)"
   ]
  },
  {
   "cell_type": "code",
   "execution_count": 7,
   "metadata": {},
   "outputs": [
    {
     "name": "stdout",
     "output_type": "stream",
     "text": [
      "[('Ладюша', 18, 400), ('Диляра', 18, 400), ('Лейла', 17, 500), ('Аделина', 14, 500), ('Элина', 16, 1000), ('Аня', 19, 500)]\n"
     ]
    }
   ],
   "source": [
    "cursor.execute(\"\"\"\n",
    "    SELECT name, age, salary FROM workers\n",
    "    WHERE id <= 6\n",
    "\"\"\")\n",
    "results = cursor.fetchall()\n",
    "print(results)"
   ]
  },
  {
   "cell_type": "code",
   "execution_count": 12,
   "metadata": {},
   "outputs": [
    {
     "name": "stdout",
     "output_type": "stream",
     "text": [
      "[('Диляра', 18, 400), ('Лейла', 17, 500), ('Аделина', 14, 500), ('Элина', 16, 1000)]\n"
     ]
    }
   ],
   "source": [
    "cursor.execute(\"\"\"\n",
    "    SELECT name, age, salary FROM workers\n",
    "    WHERE id <= 5 AND id >= 2\n",
    "\"\"\")\n",
    "results = cursor.fetchall()\n",
    "print(results)"
   ]
  },
  {
   "cell_type": "code",
   "execution_count": 16,
   "metadata": {},
   "outputs": [
    {
     "name": "stdout",
     "output_type": "stream",
     "text": [
      "Ладюша 18 400\n",
      "Диляра 18 400\n",
      "Диляра 18 400\n",
      "Лейла 17 500\n",
      "Аделина 14 500\n",
      "Аня 19 500\n",
      "Лейла 17 500\n",
      "Аделина 14 500\n",
      "Аня 19 500\n",
      "Элина 16 1000\n",
      "Эльза 15 1000\n",
      "Элина 16 1000\n",
      "Эльза 15 1000\n",
      "Иделия 14 1698\n",
      "Иделия 14 1698\n",
      "Соня 18 1700\n",
      "Соня 18 1700\n",
      "Луиза 16 1890\n",
      "Луиза 16 1890\n",
      "Амалия 17 2000\n",
      "Амалия 17 2000\n",
      "Карина 16 2540\n",
      "Карина 16 2540\n",
      "Настя 18 2570\n",
      "Настя 18 2570\n"
     ]
    }
   ],
   "source": [
    "cursor.execute(\"\"\"\n",
    "    SELECT name, age, salary FROM workers\n",
    "    ORDER BY salary\n",
    "\"\"\")\n",
    "results = cursor.fetchall()\n",
    "for worker in results:\n",
    "    print(*worker)"
   ]
  },
  {
   "cell_type": "code",
   "execution_count": 17,
   "metadata": {},
   "outputs": [
    {
     "name": "stdout",
     "output_type": "stream",
     "text": [
      "Настя 18 2570\n",
      "Настя 18 2570\n",
      "Карина 16 2540\n",
      "Карина 16 2540\n",
      "Амалия 17 2000\n",
      "Амалия 17 2000\n",
      "Луиза 16 1890\n",
      "Луиза 16 1890\n",
      "Соня 18 1700\n",
      "Соня 18 1700\n",
      "Иделия 14 1698\n",
      "Иделия 14 1698\n",
      "Элина 16 1000\n",
      "Эльза 15 1000\n",
      "Элина 16 1000\n",
      "Эльза 15 1000\n",
      "Лейла 17 500\n",
      "Аделина 14 500\n",
      "Аня 19 500\n",
      "Лейла 17 500\n",
      "Аделина 14 500\n",
      "Аня 19 500\n",
      "Ладюша 18 400\n",
      "Диляра 18 400\n",
      "Диляра 18 400\n"
     ]
    }
   ],
   "source": [
    "cursor.execute(\"\"\"\n",
    "    SELECT name, age, salary FROM workers\n",
    "    ORDER BY salary DESC\n",
    "\"\"\")\n",
    "results = cursor.fetchall()\n",
    "for worker in results:\n",
    "    print(*worker)"
   ]
  },
  {
   "cell_type": "code",
   "execution_count": 18,
   "metadata": {},
   "outputs": [
    {
     "name": "stdout",
     "output_type": "stream",
     "text": [
      "Диляра 18 400\n",
      "Лейла 17 500\n",
      "Аделина 14 500\n",
      "Аня 19 500\n",
      "Элина 16 1000\n"
     ]
    }
   ],
   "source": [
    "cursor.execute(\"\"\"\n",
    "    SELECT name, age, salary FROM workers\n",
    "    WHERE id >= 2 AND id <= 6\n",
    "    ORDER BY salary\n",
    "\"\"\")\n",
    "results = cursor.fetchall()\n",
    "for worker in results:\n",
    "    print(*worker)"
   ]
  },
  {
   "cell_type": "code",
   "execution_count": 19,
   "metadata": {},
   "outputs": [
    {
     "name": "stdout",
     "output_type": "stream",
     "text": [
      "25\n"
     ]
    }
   ],
   "source": [
    "cursor.execute(\"\"\"\n",
    "    SELECT COUNT(*) FROM workers\n",
    "\"\"\")\n",
    "results = cursor.fetchall()\n",
    "for worker in results:\n",
    "    print(*worker)"
   ]
  },
  {
   "cell_type": "code",
   "execution_count": 21,
   "metadata": {},
   "outputs": [
    {
     "name": "stdout",
     "output_type": "stream",
     "text": [
      "3\n"
     ]
    }
   ],
   "source": [
    "cursor.execute(\"\"\"\n",
    "    SELECT COUNT(*) FROM workers\n",
    "    WHERE salary == 400\n",
    "\"\"\")\n",
    "results = cursor.fetchall()\n",
    "for worker in results:\n",
    "    print(*worker)"
   ]
  },
  {
   "cell_type": "code",
   "execution_count": 22,
   "metadata": {},
   "outputs": [
    {
     "data": {
      "text/plain": [
       "<sqlite3.Cursor at 0x21c89890d40>"
      ]
     },
     "execution_count": 22,
     "metadata": {},
     "output_type": "execute_result"
    }
   ],
   "source": [
    "cursor.execute('''CREATE TABLE IF NOT EXISTS pages (\n",
    "                    id INTEGER PRIMARY KEY AUTOINCREMENT,\n",
    "                    author TEXT,\n",
    "                    article TEXT,\n",
    "                    age integer\n",
    "                )''')"
   ]
  },
  {
   "cell_type": "code",
   "execution_count": 27,
   "metadata": {},
   "outputs": [
    {
     "data": {
      "text/plain": [
       "<sqlite3.Cursor at 0x21c89890d40>"
      ]
     },
     "execution_count": 27,
     "metadata": {},
     "output_type": "execute_result"
    }
   ],
   "source": [
    "authors = [\"Artem\", \"Kamol\", \"Daniil\", \"Lev\", \"Ilnar\", \"Bulat\", \"Ilya\"]\n",
    "article = [\"В своей статье рассказывает о статьях\", \"Написал статью об инфляции\", \"Придумал новый химический элемент\", \"Также писал о машинах\", \"Написал статью о том, как разрабатывать элементы дизайна\", \"Написал статью о своей девушке\", \"Также писал о девушке\"]\n",
    "age = [18 for _ in range(len(authors))]\n",
    "pages_list = [x for x in zip(authors, article, age)]\n",
    "cursor.executemany(\"INSERT INTO pages (author, article, age) VALUES (?, ?, ?)\", pages_list)"
   ]
  },
  {
   "cell_type": "code",
   "execution_count": 32,
   "metadata": {},
   "outputs": [
    {
     "name": "stdout",
     "output_type": "stream",
     "text": [
      "1, Artem, В своей статье рассказывает о статьях, 18\n",
      "2, Kamol, Написал статью об инфляции, 18\n",
      "3, Daniil, Придумал новый химический элемент, 18\n",
      "4, Lev, Также писал о машинах, 18\n",
      "5, Ilnar, Написал статью о том, как разрабатывать элементы дизайна, 18\n",
      "6, Bulat, Написал статью о своей девушке, 18\n",
      "7, Ilya, Также писал о девушке, 18\n"
     ]
    }
   ],
   "source": [
    "cursor.execute(\"\"\"\n",
    "    SELECT * FROM pages\n",
    "\"\"\")\n",
    "results = cursor.fetchall()\n",
    "for worker in results:\n",
    "    print(*worker, sep=', ')"
   ]
  },
  {
   "cell_type": "code",
   "execution_count": 36,
   "metadata": {},
   "outputs": [
    {
     "name": "stdout",
     "output_type": "stream",
     "text": [
      "2, Kamol, Написал статью об инфляции, 18\n",
      "3, Daniil, Придумал новый химический элемент, 18\n",
      "5, Ilnar, Написал статью о том, как разрабатывать элементы дизайна, 18\n",
      "6, Bulat, Написал статью о своей девушке, 18\n"
     ]
    }
   ],
   "source": [
    "cursor.execute(\"\"\"\n",
    "    SELECT * FROM pages\n",
    "    WHERE author LIKE '_%a%_'\n",
    "\"\"\")\n",
    "results = cursor.fetchall()\n",
    "for worker in results:\n",
    "    print(*worker, sep=', ')"
   ]
  },
  {
   "cell_type": "code",
   "execution_count": 43,
   "metadata": {},
   "outputs": [
    {
     "name": "stdout",
     "output_type": "stream",
     "text": [
      "Придумал новый химический элемент\n",
      "Написал статью о том, как разрабатывать элементы дизайна\n"
     ]
    }
   ],
   "source": [
    "cursor.execute(\"\"\"\n",
    "    SELECT article FROM pages\n",
    "    WHERE article LIKE '%элемент%'\n",
    "\"\"\")\n",
    "results = cursor.fetchall()\n",
    "for worker in results:\n",
    "    print(*worker, sep=', ')"
   ]
  },
  {
   "cell_type": "code",
   "execution_count": 47,
   "metadata": {},
   "outputs": [
    {
     "name": "stdout",
     "output_type": "stream",
     "text": [
      "6, Аня, 19, 500\n",
      "8, Амалия, 17, 2000\n",
      "9, Соня, 18, 1700\n",
      "12, Настя, 18, 2570\n",
      "13, Иделия, 14, 1698\n",
      "18, Аня, 19, 500\n",
      "20, Амалия, 17, 2000\n",
      "21, Соня, 18, 1700\n",
      "24, Настя, 18, 2570\n",
      "25, Иделия, 14, 1698\n"
     ]
    }
   ],
   "source": [
    "cursor.execute(\"\"\"\n",
    "    SELECT * FROM workers\n",
    "    WHERE name LIKE '%я'\n",
    "\"\"\")\n",
    "results = cursor.fetchall()\n",
    "for worker in results:\n",
    "    print(*worker, sep=', ')"
   ]
  },
  {
   "cell_type": "code",
   "execution_count": 49,
   "metadata": {},
   "outputs": [
    {
     "name": "stdout",
     "output_type": "stream",
     "text": [
      "3, Лейла, 17, 500\n"
     ]
    }
   ],
   "source": [
    "cursor.execute(\"\"\"\n",
    "    SELECT * FROM workers\n",
    "    WHERE id == 3\n",
    "\"\"\")\n",
    "results = cursor.fetchall()\n",
    "for worker in results:\n",
    "    print(*worker, sep=', ')"
   ]
  },
  {
   "cell_type": "code",
   "execution_count": 50,
   "metadata": {},
   "outputs": [
    {
     "name": "stdout",
     "output_type": "stream",
     "text": [
      "5, Элина, 16, 1000\n",
      "7, Эльза, 15, 1000\n",
      "17, Элина, 16, 1000\n",
      "19, Эльза, 15, 1000\n"
     ]
    }
   ],
   "source": [
    "cursor.execute(\"\"\"\n",
    "    SELECT * FROM workers\n",
    "    WHERE salary == 1000\n",
    "\"\"\")\n",
    "results = cursor.fetchall()\n",
    "for worker in results:\n",
    "    print(*worker, sep=', ')"
   ]
  },
  {
   "cell_type": "code",
   "execution_count": 51,
   "metadata": {},
   "outputs": [],
   "source": [
    "cursor.execute(\"\"\"\n",
    "    SELECT * FROM workers\n",
    "    WHERE age == 23\n",
    "\"\"\")\n",
    "results = cursor.fetchall()\n",
    "for worker in results:\n",
    "    print(*worker, sep=', ')"
   ]
  },
  {
   "cell_type": "code",
   "execution_count": 55,
   "metadata": {},
   "outputs": [
    {
     "name": "stdout",
     "output_type": "stream",
     "text": [
      "4, Аделина, 14, 500\n",
      "16, Аделина, 14, 500\n"
     ]
    }
   ],
   "source": [
    "cursor.execute(\"\"\"\n",
    "    SELECT * FROM workers\n",
    "    WHERE name == 'Аделина'\n",
    "\"\"\")\n",
    "results = cursor.fetchall()\n",
    "for worker in results:\n",
    "    print(*worker, sep=', ')"
   ]
  },
  {
   "cell_type": "code",
   "execution_count": 56,
   "metadata": {},
   "outputs": [
    {
     "name": "stdout",
     "output_type": "stream",
     "text": [
      "4, Аделина, 14, 500\n",
      "12, Настя, 18, 2570\n",
      "16, Аделина, 14, 500\n",
      "24, Настя, 18, 2570\n"
     ]
    }
   ],
   "source": [
    "cursor.execute(\"\"\"\n",
    "    SELECT * FROM workers\n",
    "    WHERE name == 'Аделина' OR name == 'Настя'\n",
    "\"\"\")\n",
    "results = cursor.fetchall()\n",
    "for worker in results:\n",
    "    print(*worker, sep=', ')"
   ]
  },
  {
   "cell_type": "code",
   "execution_count": 58,
   "metadata": {},
   "outputs": [
    {
     "data": {
      "text/plain": [
       "<sqlite3.Cursor at 0x21c89890d40>"
      ]
     },
     "execution_count": 58,
     "metadata": {},
     "output_type": "execute_result"
    }
   ],
   "source": [
    "cursor.execute(\"INSERT INTO workers (name, age, salary) VALUES ('Никита', 26, 300)\")\n",
    "cursor.execute(\"INSERT INTO workers (name, age, salary) VALUES ('Светлана', 0, 1200)\")\n",
    "cursor.execute(\"INSERT INTO workers (name, age, salary) VALUES ('Борис', -100, 0)\")"
   ]
  },
  {
   "cell_type": "code",
   "execution_count": 59,
   "metadata": {},
   "outputs": [
    {
     "data": {
      "text/plain": [
       "<sqlite3.Cursor at 0x21c89890d40>"
      ]
     },
     "execution_count": 59,
     "metadata": {},
     "output_type": "execute_result"
    }
   ],
   "source": [
    "cursor.execute(\"DELETE FROM workers WHERE name == 'Борис'\")"
   ]
  },
  {
   "cell_type": "code",
   "execution_count": 60,
   "metadata": {},
   "outputs": [
    {
     "data": {
      "text/plain": [
       "<sqlite3.Cursor at 0x21c89890d40>"
      ]
     },
     "execution_count": 60,
     "metadata": {},
     "output_type": "execute_result"
    }
   ],
   "source": [
    "cursor.execute(\"DELETE FROM workers WHERE name == 'Лев'\")"
   ]
  },
  {
   "cell_type": "code",
   "execution_count": null,
   "metadata": {},
   "outputs": [],
   "source": [
    "cursor.execute(\"UPDATE workers SET salary = 3000 WHERE \")"
   ]
  }
 ],
 "metadata": {
  "kernelspec": {
   "display_name": "Python 3",
   "language": "python",
   "name": "python3"
  },
  "language_info": {
   "codemirror_mode": {
    "name": "ipython",
    "version": 3
   },
   "file_extension": ".py",
   "mimetype": "text/x-python",
   "name": "python",
   "nbconvert_exporter": "python",
   "pygments_lexer": "ipython3",
   "version": "3.12.0"
  }
 },
 "nbformat": 4,
 "nbformat_minor": 2
}
