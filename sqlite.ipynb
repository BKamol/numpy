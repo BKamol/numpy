{
 "cells": [
  {
   "cell_type": "code",
   "execution_count": 11,
   "metadata": {},
   "outputs": [
    {
     "ename": "OperationalError",
     "evalue": "database is locked",
     "output_type": "error",
     "traceback": [
      "\u001b[1;31m---------------------------------------------------------------------------\u001b[0m",
      "\u001b[1;31mOperationalError\u001b[0m                          Traceback (most recent call last)",
      "Cell \u001b[1;32mIn[11], line 11\u001b[0m\n\u001b[0;32m      4\u001b[0m cursor \u001b[38;5;241m=\u001b[39m con\u001b[38;5;241m.\u001b[39mcursor()\n\u001b[0;32m      6\u001b[0m cursor\u001b[38;5;241m.\u001b[39mexecute(\u001b[38;5;124m'''\u001b[39m\u001b[38;5;124mCREATE TABLE IF NOT EXISTS people (\u001b[39m\n\u001b[0;32m      7\u001b[0m \u001b[38;5;124m                    id INTEGER PRIMARY KEY AUTOINCREMENT,\u001b[39m\n\u001b[0;32m      8\u001b[0m \u001b[38;5;124m                    name TEXT,\u001b[39m\n\u001b[0;32m      9\u001b[0m \u001b[38;5;124m                    age INTEGER\u001b[39m\n\u001b[0;32m     10\u001b[0m \u001b[38;5;124m                )\u001b[39m\u001b[38;5;124m'''\u001b[39m)\n\u001b[1;32m---> 11\u001b[0m \u001b[43mcursor\u001b[49m\u001b[38;5;241;43m.\u001b[39;49m\u001b[43mexecute\u001b[49m\u001b[43m(\u001b[49m\u001b[38;5;124;43m\"\u001b[39;49m\u001b[38;5;124;43mINSERT INTO people (name, age) VALUES (\u001b[39;49m\u001b[38;5;124;43m'\u001b[39;49m\u001b[38;5;124;43mTom\u001b[39;49m\u001b[38;5;124;43m'\u001b[39;49m\u001b[38;5;124;43m, 38)\u001b[39;49m\u001b[38;5;124;43m\"\u001b[39;49m\u001b[43m)\u001b[49m\n",
      "\u001b[1;31mOperationalError\u001b[0m: database is locked"
     ]
    }
   ],
   "source": [
    "import sqlite3\n",
    "\n",
    "con = sqlite3.connect(\"firstDB.db\", check_same_thread=False)\n",
    "cursor = con.cursor()\n",
    "\n",
    "cursor.execute('''CREATE TABLE IF NOT EXISTS people (\n",
    "                    id INTEGER PRIMARY KEY AUTOINCREMENT,\n",
    "                    name TEXT,\n",
    "                    age INTEGER\n",
    "                )''')\n",
    "cursor.execute(\"INSERT INTO people (name, age) VALUES ('Tom', 38)\")"
   ]
  },
  {
   "cell_type": "code",
   "execution_count": null,
   "metadata": {},
   "outputs": [
    {
     "ename": "OperationalError",
     "evalue": "database is locked",
     "output_type": "error",
     "traceback": [
      "\u001b[1;31m---------------------------------------------------------------------------\u001b[0m",
      "\u001b[1;31mOperationalError\u001b[0m                          Traceback (most recent call last)",
      "Cell \u001b[1;32mIn[10], line 5\u001b[0m\n\u001b[0;32m      3\u001b[0m cursor \u001b[38;5;241m=\u001b[39m con\u001b[38;5;241m.\u001b[39mcursor()\n\u001b[0;32m      4\u001b[0m people \u001b[38;5;241m=\u001b[39m [(\u001b[38;5;124m\"\u001b[39m\u001b[38;5;124mSam\u001b[39m\u001b[38;5;124m\"\u001b[39m, \u001b[38;5;241m28\u001b[39m), (\u001b[38;5;124m\"\u001b[39m\u001b[38;5;124mAlice\u001b[39m\u001b[38;5;124m\"\u001b[39m, \u001b[38;5;241m33\u001b[39m), (\u001b[38;5;124m\"\u001b[39m\u001b[38;5;124mKate\u001b[39m\u001b[38;5;124m\"\u001b[39m, \u001b[38;5;241m25\u001b[39m)]\n\u001b[1;32m----> 5\u001b[0m \u001b[43mcursor\u001b[49m\u001b[38;5;241;43m.\u001b[39;49m\u001b[43mexecutemany\u001b[49m\u001b[43m(\u001b[49m\u001b[38;5;124;43m\"\u001b[39;49m\u001b[38;5;124;43mINSERT INTO people (name, age) VALUES (?, ?)\u001b[39;49m\u001b[38;5;124;43m\"\u001b[39;49m\u001b[43m,\u001b[49m\u001b[43m \u001b[49m\u001b[43mpeople\u001b[49m\u001b[43m)\u001b[49m\n",
      "\u001b[1;31mOperationalError\u001b[0m: database is locked"
     ]
    }
   ],
   "source": [
    "# данные для добавления\n",
    "con = sqlite3.connect(\"firstDB.db\")\n",
    "cursor = con.cursor()\n",
    "people = [(\"Sam\", 28), (\"Alice\", 33), (\"Kate\", 25)]\n",
    "cursor.executemany(\"INSERT INTO people (name, age) VALUES (?, ?)\", people)"
   ]
  },
  {
   "cell_type": "code",
   "execution_count": 12,
   "metadata": {},
   "outputs": [
    {
     "name": "stdout",
     "output_type": "stream",
     "text": [
      "[('Alice', 'Product A'), ('Bob', 'Product B')]\n"
     ]
    }
   ],
   "source": [
    "import sqlite3\n",
    "\n",
    "# Создание подключения к базе данных\n",
    "conn = sqlite3.connect('example.db')\n",
    "\n",
    "# Создание курсора для выполнения запросов\n",
    "cursor = conn.cursor()\n",
    "\n",
    "# Создание таблицы \"users\"\n",
    "cursor.execute('''CREATE TABLE IF NOT EXISTS users (\n",
    "                    id INTEGER PRIMARY KEY AUTOINCREMENT,\n",
    "                    name TEXT,\n",
    "                    email TEXT\n",
    "                )''')\n",
    "\n",
    "# Создание таблицы \"orders\"\n",
    "cursor.execute('''CREATE TABLE IF NOT EXISTS orders (\n",
    "                    id INTEGER PRIMARY KEY AUTOINCREMENT,\n",
    "                    user_id INTEGER,\n",
    "                    product TEXT,\n",
    "                    FOREIGN KEY (user_id) REFERENCES users(id)\n",
    "                )''')\n",
    "\n",
    "# Вставка данных в таблицу \"users\"\n",
    "cursor.execute(\"INSERT INTO users (name, email) VALUES ('Alice', 'alice@example.com')\")\n",
    "cursor.execute(\"INSERT INTO users (name, email) VALUES ('Bob', 'bob@example.com')\")\n",
    "\n",
    "# Вставка данных в таблицу \"orders\"\n",
    "cursor.execute(\"INSERT INTO orders (user_id, product) VALUES (1, 'Product A')\")\n",
    "cursor.execute(\"INSERT INTO orders (user_id, product) VALUES (2, 'Product B')\")\n",
    "\n",
    "# Выполнение запроса для объединения данных из обеих таблиц\n",
    "cursor.execute(\"SELECT users.name, orders.product FROM users INNER JOIN orders ON users.id = orders.user_id\")\n",
    "\n",
    "# Получение результатов\n",
    "results = cursor.fetchall()\n",
    "print(results)\n",
    "\n",
    "# Закрытие подключения\n",
    "conn.close()\n"
   ]
  },
  {
   "cell_type": "code",
   "execution_count": 13,
   "metadata": {},
   "outputs": [],
   "source": [
    "conn = sqlite3.connect('example.db')\n",
    "cursor = conn.cursor()\n",
    "cursor.execute(\"UPDATE users SET email = (SELECT email FROM orders WHERE orders.user_id = users.id) WHERE id = 1\")\n",
    "conn.commit()\n",
    "conn.close()"
   ]
  },
  {
   "cell_type": "code",
   "execution_count": 14,
   "metadata": {},
   "outputs": [],
   "source": [
    "conn = sqlite3.connect('example.db')\n",
    "cursor = conn.cursor()\n",
    "cursor.execute(\"DELETE FROM users WHERE id IN (SELECT user_id FROM orders WHERE product = 'Product B')\")\n",
    "conn.commit()\n",
    "conn.close()"
   ]
  },
  {
   "cell_type": "code",
   "execution_count": 15,
   "metadata": {},
   "outputs": [
    {
     "name": "stdout",
     "output_type": "stream",
     "text": [
      "('HR', 2, 52500.0)\n",
      "('IT', 1, 65000.0)\n",
      "('Sales', 1, 60000.0)\n"
     ]
    }
   ],
   "source": [
    "conn = sqlite3.connect('example.db')\n",
    "cursor = conn.cursor()\n",
    "cursor.execute('''CREATE TABLE IF NOT EXISTS employees (\n",
    "                    id INTEGER PRIMARY KEY AUTOINCREMENT,\n",
    "                    name TEXT,\n",
    "                    department TEXT,\n",
    "                    salary INTEGER\n",
    "                )''')\n",
    "# Вставка данных в таблицу \"employees\"\n",
    "cursor.execute(\"INSERT INTO employees (name, department, salary) VALUES ('Alice', 'HR', 50000)\")\n",
    "cursor.execute(\"INSERT INTO employees (name, department, salary) VALUES ('Bob', 'Sales', 60000)\")\n",
    "cursor.execute(\"INSERT INTO employees (name, department, salary) VALUES ('Charlie', 'HR', 55000)\")\n",
    "cursor.execute(\"INSERT INTO employees (name, department, salary) VALUES ('David', 'IT', 65000)\")\n",
    "\n",
    "# Выполнение запроса и группировка данных по столбцу \"department\"\n",
    "cursor.execute(\"SELECT department, COUNT(*), AVG(salary) FROM employees GROUP BY department\")\n",
    "\n",
    "# Получение результатов\n",
    "results = cursor.fetchall()\n",
    "for row in results:\n",
    "    print(row)\n",
    "\n",
    "# Закрытие подключения\n",
    "conn.close()"
   ]
  },
  {
   "cell_type": "code",
   "execution_count": 16,
   "metadata": {},
   "outputs": [
    {
     "name": "stdout",
     "output_type": "stream",
     "text": [
      "[(1, 'Alice', 'HR', 50000), (2, 'Bob', 'Sales', 60000), (3, 'Charlie', 'HR', 55000), (4, 'David', 'IT', 65000)]\n",
      "[\n",
      "    {\n",
      "        \"id\": 1,\n",
      "        \"name\": \"Alice\",\n",
      "        \"department\": \"HR\",\n",
      "        \"salary\": 50000\n",
      "    },\n",
      "    {\n",
      "        \"id\": 2,\n",
      "        \"name\": \"Bob\",\n",
      "        \"department\": \"Sales\",\n",
      "        \"salary\": 60000\n",
      "    },\n",
      "    {\n",
      "        \"id\": 3,\n",
      "        \"name\": \"Charlie\",\n",
      "        \"department\": \"HR\",\n",
      "        \"salary\": 55000\n",
      "    },\n",
      "    {\n",
      "        \"id\": 4,\n",
      "        \"name\": \"David\",\n",
      "        \"department\": \"IT\",\n",
      "        \"salary\": 65000\n",
      "    }\n",
      "]\n"
     ]
    }
   ],
   "source": [
    "import json\n",
    "\n",
    "conn = sqlite3.connect('exmple.db')\n",
    "cursor = conn.cursor()\n",
    "\n",
    "cursor.execute('''CREATE TABLE IF NOT EXISTS employees (\n",
    "                    id INTEGER PRIMARY KEY AUTOINCREMENT,\n",
    "                    name TEXT,\n",
    "                    department TEXT,\n",
    "                    salary INTEGER\n",
    "                )''')\n",
    "# Вставка данных в таблицу \"employees\"\n",
    "cursor.execute(\"INSERT INTO employees (name, department, salary) VALUES ('Alice', 'HR', 50000)\")\n",
    "cursor.execute(\"INSERT INTO employees (name, department, salary) VALUES ('Bob', 'Sales', 60000)\")\n",
    "cursor.execute(\"INSERT INTO employees (name, department, salary) VALUES ('Charlie', 'HR', 55000)\")\n",
    "cursor.execute(\"INSERT INTO employees (name, department, salary) VALUES ('David', 'IT', 65000)\")\n",
    "\n",
    "cursor.execute('SELECT * FROM employees')\n",
    "rows = cursor.fetchall()\n",
    "print(rows)\n",
    "result = []\n",
    "for row in rows:\n",
    "    result.append({\n",
    "        \"id\": row[0],\n",
    "        \"name\": row[1],\n",
    "        \"department\": row[2],\n",
    "        \"salary\": row[3]\n",
    "    })\n",
    "json_data = json.dumps(result, indent=4)\n",
    "print(json_data)\n",
    "conn.close()\n"
   ]
  },
  {
   "cell_type": "code",
   "execution_count": 17,
   "metadata": {},
   "outputs": [],
   "source": [
    "json_data = '''\n",
    "[\n",
    "    {\n",
    "        \"id\": 1,\n",
    "        \"name\": \"Alice\",\n",
    "        \"department\": \"HR\",\n",
    "        \"salary\": 50000\n",
    "    },\n",
    "    {\n",
    "        \"id\": 2,\n",
    "        \"name\": \"Bob\",\n",
    "        \"department\": \"Sales\",\n",
    "        \"salary\": 60000\n",
    "    },\n",
    "    {\n",
    "        \"id\": 3,\n",
    "        \"name\": \"Charlie\",\n",
    "        \"department\": \"HR\",\n",
    "        \"salary\": 55000\n",
    "    }\n",
    "]\n",
    "'''\n",
    "data = json.loads(json_data)\n",
    "conn = sqlite3.connect('example.db')\n",
    "cursor = conn.cursor()\n",
    "\n",
    "cursor.execute('''CREATE TABLE IF NOT EXISTS employees (\n",
    "                    id INTEGER PRIMARY KEY,\n",
    "                    name TEXT,\n",
    "                    department TEXT,\n",
    "                    salary INTEGER\n",
    "                )''')\n",
    "\n",
    "for row in data:\n",
    "    cursor.execute(\"INSERT INTO employees (id, name, department, salary) VALUES (?, ?, ?, ?)\", (row['id'], row['name'], row['department'], row['salary']))\n",
    "conn.commit()\n",
    "conn.close()\n"
   ]
  },
  {
   "cell_type": "code",
   "execution_count": null,
   "metadata": {},
   "outputs": [],
   "source": []
  }
 ],
 "metadata": {
  "kernelspec": {
   "display_name": "Python 3",
   "language": "python",
   "name": "python3"
  },
  "language_info": {
   "codemirror_mode": {
    "name": "ipython",
    "version": 3
   },
   "file_extension": ".py",
   "mimetype": "text/x-python",
   "name": "python",
   "nbconvert_exporter": "python",
   "pygments_lexer": "ipython3",
   "version": "3.12.0"
  }
 },
 "nbformat": 4,
 "nbformat_minor": 2
}
